{
 "cells": [
  {
   "cell_type": "code",
   "execution_count": 17,
   "id": "7346b904-aa35-480b-b365-cc6991cab05d",
   "metadata": {},
   "outputs": [],
   "source": [
    "import pandas as pd\n",
    "import seaborn as sns\n",
    "import matplotlib.pyplot as plt "
   ]
  },
  {
   "cell_type": "code",
   "execution_count": 3,
   "id": "8cffee1f-fb46-40d0-a9f3-2a85dd11a104",
   "metadata": {},
   "outputs": [],
   "source": [
    "#reading data\n",
    "invoiceDF = pd.read_csv('Invoices_Train.csv')\n",
    "paymentsDF = pd.read_csv('Payments_Train.csv')\n",
    "vendorsDF = pd.read_csv('Vendors.csv')"
   ]
  },
  {
   "cell_type": "code",
   "execution_count": 7,
   "id": "53b030ad-0f92-4886-b022-057d364c2747",
   "metadata": {},
   "outputs": [
    {
     "data": {
      "text/html": [
       "<div>\n",
       "<style scoped>\n",
       "    .dataframe tbody tr th:only-of-type {\n",
       "        vertical-align: middle;\n",
       "    }\n",
       "\n",
       "    .dataframe tbody tr th {\n",
       "        vertical-align: top;\n",
       "    }\n",
       "\n",
       "    .dataframe thead th {\n",
       "        text-align: right;\n",
       "    }\n",
       "</style>\n",
       "<table border=\"1\" class=\"dataframe\">\n",
       "  <thead>\n",
       "    <tr style=\"text-align: right;\">\n",
       "      <th></th>\n",
       "      <th>Invoice_ID</th>\n",
       "      <th>Vendor_ID</th>\n",
       "      <th>Invoice_Date</th>\n",
       "      <th>Total_Amount</th>\n",
       "      <th>Currency</th>\n",
       "      <th>Status</th>\n",
       "      <th>Exchange_Rate</th>\n",
       "      <th>Total_Amount_INR</th>\n",
       "    </tr>\n",
       "  </thead>\n",
       "  <tbody>\n",
       "    <tr>\n",
       "      <th>0</th>\n",
       "      <td>INV-00001</td>\n",
       "      <td>VEND-019</td>\n",
       "      <td>2023-01-01</td>\n",
       "      <td>929.46</td>\n",
       "      <td>USD</td>\n",
       "      <td>Paid</td>\n",
       "      <td>82.5</td>\n",
       "      <td>76680.450</td>\n",
       "    </tr>\n",
       "    <tr>\n",
       "      <th>1</th>\n",
       "      <td>INV-00002</td>\n",
       "      <td>VEND-008</td>\n",
       "      <td>2023-01-02</td>\n",
       "      <td>621.19</td>\n",
       "      <td>USD</td>\n",
       "      <td>Paid</td>\n",
       "      <td>82.5</td>\n",
       "      <td>51248.175</td>\n",
       "    </tr>\n",
       "    <tr>\n",
       "      <th>2</th>\n",
       "      <td>INV-00003</td>\n",
       "      <td>VEND-016</td>\n",
       "      <td>2023-01-03</td>\n",
       "      <td>3375.33</td>\n",
       "      <td>USD</td>\n",
       "      <td>Paid</td>\n",
       "      <td>82.5</td>\n",
       "      <td>278464.725</td>\n",
       "    </tr>\n",
       "    <tr>\n",
       "      <th>3</th>\n",
       "      <td>INV-00004</td>\n",
       "      <td>VEND-002</td>\n",
       "      <td>2023-01-04</td>\n",
       "      <td>4188.03</td>\n",
       "      <td>GBP</td>\n",
       "      <td>Paid</td>\n",
       "      <td>102.0</td>\n",
       "      <td>427179.060</td>\n",
       "    </tr>\n",
       "    <tr>\n",
       "      <th>4</th>\n",
       "      <td>INV-00005</td>\n",
       "      <td>VEND-004</td>\n",
       "      <td>2023-01-05</td>\n",
       "      <td>3504.20</td>\n",
       "      <td>GBP</td>\n",
       "      <td>Pending</td>\n",
       "      <td>102.0</td>\n",
       "      <td>357428.400</td>\n",
       "    </tr>\n",
       "  </tbody>\n",
       "</table>\n",
       "</div>"
      ],
      "text/plain": [
       "  Invoice_ID Vendor_ID Invoice_Date  Total_Amount Currency   Status  \\\n",
       "0  INV-00001  VEND-019   2023-01-01        929.46      USD     Paid   \n",
       "1  INV-00002  VEND-008   2023-01-02        621.19      USD     Paid   \n",
       "2  INV-00003  VEND-016   2023-01-03       3375.33      USD     Paid   \n",
       "3  INV-00004  VEND-002   2023-01-04       4188.03      GBP     Paid   \n",
       "4  INV-00005  VEND-004   2023-01-05       3504.20      GBP  Pending   \n",
       "\n",
       "   Exchange_Rate  Total_Amount_INR  \n",
       "0           82.5         76680.450  \n",
       "1           82.5         51248.175  \n",
       "2           82.5        278464.725  \n",
       "3          102.0        427179.060  \n",
       "4          102.0        357428.400  "
      ]
     },
     "execution_count": 7,
     "metadata": {},
     "output_type": "execute_result"
    }
   ],
   "source": [
    "invoiceDF.head()"
   ]
  },
  {
   "cell_type": "code",
   "execution_count": 9,
   "id": "7745ab02-ead6-4e6c-ac4f-b2b25bb7dace",
   "metadata": {},
   "outputs": [
    {
     "data": {
      "text/html": [
       "<div>\n",
       "<style scoped>\n",
       "    .dataframe tbody tr th:only-of-type {\n",
       "        vertical-align: middle;\n",
       "    }\n",
       "\n",
       "    .dataframe tbody tr th {\n",
       "        vertical-align: top;\n",
       "    }\n",
       "\n",
       "    .dataframe thead th {\n",
       "        text-align: right;\n",
       "    }\n",
       "</style>\n",
       "<table border=\"1\" class=\"dataframe\">\n",
       "  <thead>\n",
       "    <tr style=\"text-align: right;\">\n",
       "      <th></th>\n",
       "      <th>Payment_ID</th>\n",
       "      <th>Invoice_ID</th>\n",
       "      <th>Payment_Date</th>\n",
       "      <th>Payment_Amount</th>\n",
       "      <th>Method</th>\n",
       "    </tr>\n",
       "  </thead>\n",
       "  <tbody>\n",
       "    <tr>\n",
       "      <th>0</th>\n",
       "      <td>PAY-00001</td>\n",
       "      <td>INV-00001</td>\n",
       "      <td>2023-01-02</td>\n",
       "      <td>929.46</td>\n",
       "      <td>PayPal</td>\n",
       "    </tr>\n",
       "    <tr>\n",
       "      <th>1</th>\n",
       "      <td>PAY-00002</td>\n",
       "      <td>INV-00002</td>\n",
       "      <td>2023-01-03</td>\n",
       "      <td>621.19</td>\n",
       "      <td>Credit Card</td>\n",
       "    </tr>\n",
       "    <tr>\n",
       "      <th>2</th>\n",
       "      <td>PAY-00003</td>\n",
       "      <td>INV-00003</td>\n",
       "      <td>2023-01-04</td>\n",
       "      <td>3375.33</td>\n",
       "      <td>PayPal</td>\n",
       "    </tr>\n",
       "    <tr>\n",
       "      <th>3</th>\n",
       "      <td>PAY-00004</td>\n",
       "      <td>INV-00004</td>\n",
       "      <td>2023-01-05</td>\n",
       "      <td>4188.03</td>\n",
       "      <td>Credit Card</td>\n",
       "    </tr>\n",
       "    <tr>\n",
       "      <th>4</th>\n",
       "      <td>PAY-00005</td>\n",
       "      <td>INV-00006</td>\n",
       "      <td>2023-01-06</td>\n",
       "      <td>3560.70</td>\n",
       "      <td>Credit Card</td>\n",
       "    </tr>\n",
       "  </tbody>\n",
       "</table>\n",
       "</div>"
      ],
      "text/plain": [
       "  Payment_ID Invoice_ID Payment_Date  Payment_Amount       Method\n",
       "0  PAY-00001  INV-00001   2023-01-02          929.46       PayPal\n",
       "1  PAY-00002  INV-00002   2023-01-03          621.19  Credit Card\n",
       "2  PAY-00003  INV-00003   2023-01-04         3375.33       PayPal\n",
       "3  PAY-00004  INV-00004   2023-01-05         4188.03  Credit Card\n",
       "4  PAY-00005  INV-00006   2023-01-06         3560.70  Credit Card"
      ]
     },
     "execution_count": 9,
     "metadata": {},
     "output_type": "execute_result"
    }
   ],
   "source": [
    "paymentsDF.head()"
   ]
  },
  {
   "cell_type": "code",
   "execution_count": 11,
   "id": "f3d3d18a-2e37-4af2-84aa-ceb2fedb7d36",
   "metadata": {},
   "outputs": [
    {
     "data": {
      "text/html": [
       "<div>\n",
       "<style scoped>\n",
       "    .dataframe tbody tr th:only-of-type {\n",
       "        vertical-align: middle;\n",
       "    }\n",
       "\n",
       "    .dataframe tbody tr th {\n",
       "        vertical-align: top;\n",
       "    }\n",
       "\n",
       "    .dataframe thead th {\n",
       "        text-align: right;\n",
       "    }\n",
       "</style>\n",
       "<table border=\"1\" class=\"dataframe\">\n",
       "  <thead>\n",
       "    <tr style=\"text-align: right;\">\n",
       "      <th></th>\n",
       "      <th>Vendor_ID</th>\n",
       "      <th>Vendor_Name</th>\n",
       "      <th>Country</th>\n",
       "      <th>Category</th>\n",
       "    </tr>\n",
       "  </thead>\n",
       "  <tbody>\n",
       "    <tr>\n",
       "      <th>0</th>\n",
       "      <td>VEND-001</td>\n",
       "      <td>Vendor_1</td>\n",
       "      <td>France</td>\n",
       "      <td>Office Equipment</td>\n",
       "    </tr>\n",
       "    <tr>\n",
       "      <th>1</th>\n",
       "      <td>VEND-002</td>\n",
       "      <td>Vendor_2</td>\n",
       "      <td>USA</td>\n",
       "      <td>Consulting</td>\n",
       "    </tr>\n",
       "    <tr>\n",
       "      <th>2</th>\n",
       "      <td>VEND-003</td>\n",
       "      <td>Vendor_3</td>\n",
       "      <td>USA</td>\n",
       "      <td>Stationery</td>\n",
       "    </tr>\n",
       "    <tr>\n",
       "      <th>3</th>\n",
       "      <td>VEND-004</td>\n",
       "      <td>Vendor_4</td>\n",
       "      <td>UK</td>\n",
       "      <td>Stationery</td>\n",
       "    </tr>\n",
       "    <tr>\n",
       "      <th>4</th>\n",
       "      <td>VEND-005</td>\n",
       "      <td>Vendor_5</td>\n",
       "      <td>USA</td>\n",
       "      <td>Consulting</td>\n",
       "    </tr>\n",
       "  </tbody>\n",
       "</table>\n",
       "</div>"
      ],
      "text/plain": [
       "  Vendor_ID Vendor_Name Country          Category\n",
       "0  VEND-001    Vendor_1  France  Office Equipment\n",
       "1  VEND-002    Vendor_2     USA        Consulting\n",
       "2  VEND-003    Vendor_3     USA        Stationery\n",
       "3  VEND-004    Vendor_4      UK        Stationery\n",
       "4  VEND-005    Vendor_5     USA        Consulting"
      ]
     },
     "execution_count": 11,
     "metadata": {},
     "output_type": "execute_result"
    }
   ],
   "source": [
    "vendorsDF.head()"
   ]
  },
  {
   "cell_type": "code",
   "execution_count": 27,
   "id": "8be4b16d-e42d-44ef-bd29-cdb19d46875f",
   "metadata": {},
   "outputs": [],
   "source": [
    "invoiceDF['Invoice_Date'] = pd.to_datetime(invoiceDF['Invoice_Date'])\n",
    "paymentsDF['Payment_Date'] = pd.to_datetime(paymentsDF['Payment_Date'])"
   ]
  },
  {
   "cell_type": "code",
   "execution_count": 29,
   "id": "7f16de86-0c70-4a7a-86f4-b1089811eadc",
   "metadata": {},
   "outputs": [
    {
     "name": "stdout",
     "output_type": "stream",
     "text": [
      "<class 'pandas.core.frame.DataFrame'>\n",
      "RangeIndex: 5000 entries, 0 to 4999\n",
      "Data columns (total 8 columns):\n",
      " #   Column            Non-Null Count  Dtype         \n",
      "---  ------            --------------  -----         \n",
      " 0   Invoice_ID        5000 non-null   object        \n",
      " 1   Vendor_ID         5000 non-null   object        \n",
      " 2   Invoice_Date      5000 non-null   datetime64[ns]\n",
      " 3   Total_Amount      5000 non-null   float64       \n",
      " 4   Currency          5000 non-null   object        \n",
      " 5   Status            5000 non-null   object        \n",
      " 6   Exchange_Rate     5000 non-null   float64       \n",
      " 7   Total_Amount_INR  5000 non-null   float64       \n",
      "dtypes: datetime64[ns](1), float64(3), object(4)\n",
      "memory usage: 312.6+ KB\n"
     ]
    }
   ],
   "source": [
    "invoiceDF.info()"
   ]
  },
  {
   "cell_type": "code",
   "execution_count": 37,
   "id": "658194cc-cec4-42da-8d33-d1f05a8ff255",
   "metadata": {},
   "outputs": [
    {
     "name": "stderr",
     "output_type": "stream",
     "text": [
      "/var/folders/b5/7xxf201d4dlgs0txsxw00m8w0000gn/T/ipykernel_10581/597780730.py:3: UserWarning: \n",
      "\n",
      "`distplot` is a deprecated function and will be removed in seaborn v0.14.0.\n",
      "\n",
      "Please adapt your code to use either `displot` (a figure-level function with\n",
      "similar flexibility) or `histplot` (an axes-level function for histograms).\n",
      "\n",
      "For a guide to updating your code to use the new functions, please see\n",
      "https://gist.github.com/mwaskom/de44147ed2974457ad6372750bbe5751\n",
      "\n",
      "  sns.distplot(invoiceDF['Total_Amount_INR'])\n"
     ]
    },
    {
     "data": {
      "image/png": "[encoded data removed]",
      "text/plain": [
       "<Figure size 1600x500 with 1 Axes>"
      ]
     },
     "metadata": {},
     "output_type": "display_data"
    }
   ],
   "source": [
    "plt.figure(figsize=(16,5))\n",
    "plt.subplot(1,2,1)\n",
    "sns.distplot(invoiceDF['Total_Amount_INR'])\n",
    "\n",
    "# sns.distplot(invoiceDF['Invoice_Date'])\n",
    "\n",
    "\n",
    "plt.show()"
   ]
  },
  {
   "cell_type": "markdown",
   "id": "28fd7a46-91f2-44bf-ade6-11b709ac05b6",
   "metadata": {},
   "source": [
    "As our total amount is not normally distributed!! \n",
    "\n",
    "We CAN NOT apply Z-score technique to detect Anomalies in our DATA!"
   ]
  },
  {
   "cell_type": "code",
   "execution_count": 43,
   "id": "e9022ba3-7974-407d-968c-beb208f03b8e",
   "metadata": {},
   "outputs": [
    {
     "data": {
      "text/plain": [
       "0.056047122038796485"
      ]
     },
     "execution_count": 43,
     "metadata": {},
     "output_type": "execute_result"
    }
   ],
   "source": [
    "invoiceDF['Total_Amount_INR'].skew()"
   ]
  },
  {
   "cell_type": "code",
   "execution_count": 45,
   "id": "af3a2145-d453-4ea3-9a6a-567b6f6998b8",
   "metadata": {},
   "outputs": [
    {
     "data": {
      "text/plain": [
       "count      5000.000000\n",
       "mean     237350.840717\n",
       "std      114035.549996\n",
       "min       41466.975000\n",
       "25%      139116.881250\n",
       "50%      233848.160000\n",
       "75%      336277.972500\n",
       "max      509342.100000\n",
       "Name: Total_Amount_INR, dtype: float64"
      ]
     },
     "execution_count": 45,
     "metadata": {},
     "output_type": "execute_result"
    }
   ],
   "source": [
    "invoiceDF['Total_Amount_INR'].describe()"
   ]
  },
  {
   "cell_type": "code",
   "execution_count": 47,
   "id": "d5325fc9-3e32-49d1-999f-1d00bec28f0b",
   "metadata": {},
   "outputs": [
    {
     "data": {
      "text/plain": [
       "<Axes: ylabel='Total_Amount_INR'>"
      ]
     },
     "execution_count": 47,
     "metadata": {},
     "output_type": "execute_result"
    },
    {
     "data": {
      "image/png": "[encoded data removed]",
      "text/plain": [
       "<Figure size 640x480 with 1 Axes>"
      ]
     },
     "metadata": {},
     "output_type": "display_data"
    }
   ],
   "source": [
    "  sns.boxplot(invoiceDF['Total_Amount_INR'])"
   ]
  },
  {
   "cell_type": "markdown",
   "id": "7836c45e-9507-4c07-9370-54cb60000ce3",
   "metadata": {},
   "source": [
    "above graph shows there is no outliers in the data. whole data base is evenly distributed.\n",
    "\n",
    "still we will perform all the task!"
   ]
  },
  {
   "cell_type": "code",
   "execution_count": 49,
   "id": "a6d05811-3f4f-4746-9256-00456faa1c35",
   "metadata": {},
   "outputs": [
    {
     "name": "stdout",
     "output_type": "stream",
     "text": [
      "139116.88125 336277.97250000003\n"
     ]
    }
   ],
   "source": [
    "percentile25 = invoiceDF['Total_Amount_INR'].quantile(0.25)\n",
    "percentile75 = invoiceDF['Total_Amount_INR'].quantile(0.75)\n",
    "print(percentile25,percentile75)"
   ]
  },
  {
   "cell_type": "code",
   "execution_count": 51,
   "id": "5727802a-b486-47c2-aec7-9aeb751d0912",
   "metadata": {},
   "outputs": [],
   "source": [
    "IQR = percentile75-percentile25"
   ]
  },
  {
   "cell_type": "code",
   "execution_count": 53,
   "id": "5254e402-a51b-484a-b540-ecf1e085aad7",
   "metadata": {},
   "outputs": [
    {
     "data": {
      "text/plain": [
       "197161.09125000003"
      ]
     },
     "execution_count": 53,
     "metadata": {},
     "output_type": "execute_result"
    }
   ],
   "source": [
    "IQR"
   ]
  },
  {
   "cell_type": "code",
   "execution_count": 55,
   "id": "4f245d20-e6c0-4a6e-9313-5c8908c3d49f",
   "metadata": {},
   "outputs": [],
   "source": [
    "upper_limit = percentile75 + 1.5 *  IQR\n",
    "lower_limit = percentile25 - 1.5 *  IQR"
   ]
  },
  {
   "cell_type": "code",
   "execution_count": 57,
   "id": "6cd4bdc8-3287-4ae0-800e-c0a98a6394b9",
   "metadata": {},
   "outputs": [
    {
     "name": "stdout",
     "output_type": "stream",
     "text": [
      "632019.609375 -156624.75562500002\n"
     ]
    }
   ],
   "source": [
    "print(upper_limit,lower_limit)"
   ]
  },
  {
   "cell_type": "code",
   "execution_count": 59,
   "id": "9b386563-8e67-4be9-8983-245521dbf8b2",
   "metadata": {},
   "outputs": [
    {
     "data": {
      "text/html": [
       "<div>\n",
       "<style scoped>\n",
       "    .dataframe tbody tr th:only-of-type {\n",
       "        vertical-align: middle;\n",
       "    }\n",
       "\n",
       "    .dataframe tbody tr th {\n",
       "        vertical-align: top;\n",
       "    }\n",
       "\n",
       "    .dataframe thead th {\n",
       "        text-align: right;\n",
       "    }\n",
       "</style>\n",
       "<table border=\"1\" class=\"dataframe\">\n",
       "  <thead>\n",
       "    <tr style=\"text-align: right;\">\n",
       "      <th></th>\n",
       "      <th>Invoice_ID</th>\n",
       "      <th>Vendor_ID</th>\n",
       "      <th>Invoice_Date</th>\n",
       "      <th>Total_Amount</th>\n",
       "      <th>Currency</th>\n",
       "      <th>Status</th>\n",
       "      <th>Exchange_Rate</th>\n",
       "      <th>Total_Amount_INR</th>\n",
       "    </tr>\n",
       "  </thead>\n",
       "  <tbody>\n",
       "  </tbody>\n",
       "</table>\n",
       "</div>"
      ],
      "text/plain": [
       "Empty DataFrame\n",
       "Columns: [Invoice_ID, Vendor_ID, Invoice_Date, Total_Amount, Currency, Status, Exchange_Rate, Total_Amount_INR]\n",
       "Index: []"
      ]
     },
     "execution_count": 59,
     "metadata": {},
     "output_type": "execute_result"
    }
   ],
   "source": [
    "invoiceDF[invoiceDF['Total_Amount_INR']>upper_limit]"
   ]
  },
  {
   "cell_type": "code",
   "execution_count": 63,
   "id": "b4b492d6-e2d9-428c-8908-3648a660e70f",
   "metadata": {},
   "outputs": [
    {
     "data": {
      "text/html": [
       "<div>\n",
       "<style scoped>\n",
       "    .dataframe tbody tr th:only-of-type {\n",
       "        vertical-align: middle;\n",
       "    }\n",
       "\n",
       "    .dataframe tbody tr th {\n",
       "        vertical-align: top;\n",
       "    }\n",
       "\n",
       "    .dataframe thead th {\n",
       "        text-align: right;\n",
       "    }\n",
       "</style>\n",
       "<table border=\"1\" class=\"dataframe\">\n",
       "  <thead>\n",
       "    <tr style=\"text-align: right;\">\n",
       "      <th></th>\n",
       "      <th>Invoice_ID</th>\n",
       "      <th>Vendor_ID</th>\n",
       "      <th>Invoice_Date</th>\n",
       "      <th>Total_Amount</th>\n",
       "      <th>Currency</th>\n",
       "      <th>Status</th>\n",
       "      <th>Exchange_Rate</th>\n",
       "      <th>Total_Amount_INR</th>\n",
       "    </tr>\n",
       "  </thead>\n",
       "  <tbody>\n",
       "  </tbody>\n",
       "</table>\n",
       "</div>"
      ],
      "text/plain": [
       "Empty DataFrame\n",
       "Columns: [Invoice_ID, Vendor_ID, Invoice_Date, Total_Amount, Currency, Status, Exchange_Rate, Total_Amount_INR]\n",
       "Index: []"
      ]
     },
     "execution_count": 63,
     "metadata": {},
     "output_type": "execute_result"
    }
   ],
   "source": [
    "invoiceDF[invoiceDF['Total_Amount_INR']<lower_limit]"
   ]
  },
  {
   "cell_type": "markdown",
   "id": "7d308339-3a0f-469a-b3f4-cef8bf373086",
   "metadata": {},
   "source": [
    "above code proves that there is no outliers."
   ]
  }
 ],
 "metadata": {
  "kernelspec": {
   "display_name": "Python 3 (ipykernel)",
   "language": "python",
   "name": "python3"
  },
  "language_info": {
   "codemirror_mode": {
    "name": "ipython",
    "version": 3
   },
   "file_extension": ".py",
   "mimetype": "text/x-python",
   "name": "python",
   "nbconvert_exporter": "python",
   "pygments_lexer": "ipython3",
   "version": "3.12.4"
  }
 },
 "nbformat": 4,
 "nbformat_minor": 5
}
