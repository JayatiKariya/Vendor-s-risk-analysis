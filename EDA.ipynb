{
 "cells": [
  {
   "cell_type": "markdown",
   "id": "19443711-8e39-4f5f-be89-a66828072a9b",
   "metadata": {},
   "source": [
    "EDA\n",
    "\n",
    "Understanding the data"
   ]
  },
  {
   "cell_type": "code",
   "execution_count": 216,
   "id": "5c67cedf-db21-4637-a420-d2c3a6954ae1",
   "metadata": {},
   "outputs": [
    {
     "name": "stdout",
     "output_type": "stream",
     "text": [
      "Requirement already satisfied: pandas-profiling in /opt/anaconda3/lib/python3.12/site-packages (3.2.0)\n",
      "Requirement already satisfied: joblib~=1.1.0 in /opt/anaconda3/lib/python3.12/site-packages (from pandas-profiling) (1.1.1)\n",
      "Requirement already satisfied: scipy>=1.4.1 in /opt/anaconda3/lib/python3.12/site-packages (from pandas-profiling) (1.13.1)\n",
      "Requirement already satisfied: pandas!=1.0.0,!=1.0.1,!=1.0.2,!=1.1.0,>=0.25.3 in /opt/anaconda3/lib/python3.12/site-packages (from pandas-profiling) (2.2.2)\n",
      "Requirement already satisfied: matplotlib>=3.2.0 in /opt/anaconda3/lib/python3.12/site-packages (from pandas-profiling) (3.8.4)\n",
      "Requirement already satisfied: pydantic>=1.8.1 in /opt/anaconda3/lib/python3.12/site-packages (from pandas-profiling) (2.5.3)\n",
      "Requirement already satisfied: PyYAML>=5.0.0 in /opt/anaconda3/lib/python3.12/site-packages (from pandas-profiling) (6.0.1)\n",
      "Requirement already satisfied: jinja2>=2.11.1 in /opt/anaconda3/lib/python3.12/site-packages (from pandas-profiling) (3.1.4)\n",
      "Requirement already satisfied: markupsafe~=2.1.1 in /opt/anaconda3/lib/python3.12/site-packages (from pandas-profiling) (2.1.3)\n",
      "Collecting visions==0.7.4 (from visions[type_image_path]==0.7.4->pandas-profiling)\n",
      "  Using cached visions-0.7.4-py3-none-any.whl.metadata (5.9 kB)\n",
      "Requirement already satisfied: numpy>=1.16.0 in /opt/anaconda3/lib/python3.12/site-packages (from pandas-profiling) (1.26.4)\n",
      "Requirement already satisfied: htmlmin>=0.1.12 in /opt/anaconda3/lib/python3.12/site-packages (from pandas-profiling) (0.1.12)\n",
      "Requirement already satisfied: missingno>=0.4.2 in /opt/anaconda3/lib/python3.12/site-packages (from pandas-profiling) (0.5.2)\n",
      "Requirement already satisfied: phik>=0.11.1 in /opt/anaconda3/lib/python3.12/site-packages (from pandas-profiling) (0.12.4)\n",
      "Requirement already satisfied: tangled-up-in-unicode==0.2.0 in /opt/anaconda3/lib/python3.12/site-packages (from pandas-profiling) (0.2.0)\n",
      "Requirement already satisfied: requests>=2.24.0 in /opt/anaconda3/lib/python3.12/site-packages (from pandas-profiling) (2.32.2)\n",
      "Requirement already satisfied: tqdm>=4.48.2 in /opt/anaconda3/lib/python3.12/site-packages (from pandas-profiling) (4.66.4)\n",
      "Requirement already satisfied: seaborn>=0.10.1 in /opt/anaconda3/lib/python3.12/site-packages (from pandas-profiling) (0.13.2)\n",
      "Requirement already satisfied: multimethod>=1.4 in /opt/anaconda3/lib/python3.12/site-packages (from pandas-profiling) (1.12)\n",
      "Requirement already satisfied: attrs>=19.3.0 in /opt/anaconda3/lib/python3.12/site-packages (from visions==0.7.4->visions[type_image_path]==0.7.4->pandas-profiling) (23.1.0)\n",
      "Requirement already satisfied: networkx>=2.4 in /opt/anaconda3/lib/python3.12/site-packages (from visions==0.7.4->visions[type_image_path]==0.7.4->pandas-profiling) (3.2.1)\n",
      "Requirement already satisfied: imagehash in /opt/anaconda3/lib/python3.12/site-packages (from visions[type_image_path]==0.7.4->pandas-profiling) (4.3.1)\n",
      "Requirement already satisfied: Pillow in /opt/anaconda3/lib/python3.12/site-packages (from visions[type_image_path]==0.7.4->pandas-profiling) (10.3.0)\n",
      "Requirement already satisfied: contourpy>=1.0.1 in /opt/anaconda3/lib/python3.12/site-packages (from matplotlib>=3.2.0->pandas-profiling) (1.2.0)\n",
      "Requirement already satisfied: cycler>=0.10 in /opt/anaconda3/lib/python3.12/site-packages (from matplotlib>=3.2.0->pandas-profiling) (0.11.0)\n",
      "Requirement already satisfied: fonttools>=4.22.0 in /opt/anaconda3/lib/python3.12/site-packages (from matplotlib>=3.2.0->pandas-profiling) (4.51.0)\n",
      "Requirement already satisfied: kiwisolver>=1.3.1 in /opt/anaconda3/lib/python3.12/site-packages (from matplotlib>=3.2.0->pandas-profiling) (1.4.4)\n",
      "Requirement already satisfied: packaging>=20.0 in /opt/anaconda3/lib/python3.12/site-packages (from matplotlib>=3.2.0->pandas-profiling) (23.2)\n",
      "Requirement already satisfied: pyparsing>=2.3.1 in /opt/anaconda3/lib/python3.12/site-packages (from matplotlib>=3.2.0->pandas-profiling) (3.0.9)\n",
      "Requirement already satisfied: python-dateutil>=2.7 in /opt/anaconda3/lib/python3.12/site-packages (from matplotlib>=3.2.0->pandas-profiling) (2.9.0.post0)\n",
      "Requirement already satisfied: pytz>=2020.1 in /opt/anaconda3/lib/python3.12/site-packages (from pandas!=1.0.0,!=1.0.1,!=1.0.2,!=1.1.0,>=0.25.3->pandas-profiling) (2024.1)\n",
      "Requirement already satisfied: tzdata>=2022.7 in /opt/anaconda3/lib/python3.12/site-packages (from pandas!=1.0.0,!=1.0.1,!=1.0.2,!=1.1.0,>=0.25.3->pandas-profiling) (2023.3)\n",
      "Requirement already satisfied: annotated-types>=0.4.0 in /opt/anaconda3/lib/python3.12/site-packages (from pydantic>=1.8.1->pandas-profiling) (0.6.0)\n",
      "Requirement already satisfied: pydantic-core==2.14.6 in /opt/anaconda3/lib/python3.12/site-packages (from pydantic>=1.8.1->pandas-profiling) (2.14.6)\n",
      "Requirement already satisfied: typing-extensions>=4.6.1 in /opt/anaconda3/lib/python3.12/site-packages (from pydantic>=1.8.1->pandas-profiling) (4.11.0)\n",
      "Requirement already satisfied: charset-normalizer<4,>=2 in /opt/anaconda3/lib/python3.12/site-packages (from requests>=2.24.0->pandas-profiling) (2.0.4)\n",
      "Requirement already satisfied: idna<4,>=2.5 in /opt/anaconda3/lib/python3.12/site-packages (from requests>=2.24.0->pandas-profiling) (3.7)\n",
      "Requirement already satisfied: urllib3<3,>=1.21.1 in /opt/anaconda3/lib/python3.12/site-packages (from requests>=2.24.0->pandas-profiling) (2.2.2)\n",
      "Requirement already satisfied: certifi>=2017.4.17 in /opt/anaconda3/lib/python3.12/site-packages (from requests>=2.24.0->pandas-profiling) (2024.12.14)\n",
      "Requirement already satisfied: six>=1.5 in /opt/anaconda3/lib/python3.12/site-packages (from python-dateutil>=2.7->matplotlib>=3.2.0->pandas-profiling) (1.16.0)\n",
      "Requirement already satisfied: PyWavelets in /opt/anaconda3/lib/python3.12/site-packages (from imagehash->visions[type_image_path]==0.7.4->pandas-profiling) (1.5.0)\n",
      "Using cached visions-0.7.4-py3-none-any.whl (102 kB)\n",
      "Installing collected packages: visions\n",
      "  Attempting uninstall: visions\n",
      "    Found existing installation: visions 0.7.6\n",
      "    Uninstalling visions-0.7.6:\n",
      "      Successfully uninstalled visions-0.7.6\n",
      "\u001b[31mERROR: pip's dependency resolver does not currently take into account all the packages that are installed. This behaviour is the source of the following dependency conflicts.\n",
      "ydata-profiling 4.12.2 requires visions[type_image_path]<0.8.0,>=0.7.5, but you have visions 0.7.4 which is incompatible.\u001b[0m\u001b[31m\n",
      "\u001b[0mSuccessfully installed visions-0.7.4\n"
     ]
    }
   ],
   "source": [
    "!pip install pandas-profiling\n",
    "import pandas as pd\n",
    "from pandas_profiling import ProfileReport\n"
   ]
  },
  {
   "cell_type": "code",
   "execution_count": 5,
   "id": "61c62388-b896-46fd-9f64-b9c58c8dd568",
   "metadata": {},
   "outputs": [],
   "source": [
    "#reading data\n",
    "invoiceDF = pd.read_csv('Invoices_Train.csv')\n",
    "paymentsDF = pd.read_csv('Payments_Train.csv')\n",
    "vendorsDF = pd.read_csv('Vendors.csv')"
   ]
  },
  {
   "cell_type": "code",
   "execution_count": 9,
   "id": "88d4b7d5-7fd0-4980-8b64-8c8f702a2336",
   "metadata": {},
   "outputs": [
    {
     "name": "stdout",
     "output_type": "stream",
     "text": [
      "(5000, 6)\n",
      "(3059, 5)\n",
      "(20, 4)\n"
     ]
    }
   ],
   "source": [
    "#1) how big is the data\n",
    "print(invoiceDF.shape)\n",
    "print(paymentsDF.shape)\n",
    "print(vendorsDF.shape)"
   ]
  },
  {
   "cell_type": "code",
   "execution_count": 17,
   "id": "c1f3ea18-4d00-4e8c-96e6-188aa424c4c6",
   "metadata": {},
   "outputs": [
    {
     "data": {
      "text/html": [
       "<div>\n",
       "<style scoped>\n",
       "    .dataframe tbody tr th:only-of-type {\n",
       "        vertical-align: middle;\n",
       "    }\n",
       "\n",
       "    .dataframe tbody tr th {\n",
       "        vertical-align: top;\n",
       "    }\n",
       "\n",
       "    .dataframe thead th {\n",
       "        text-align: right;\n",
       "    }\n",
       "</style>\n",
       "<table border=\"1\" class=\"dataframe\">\n",
       "  <thead>\n",
       "    <tr style=\"text-align: right;\">\n",
       "      <th></th>\n",
       "      <th>Invoice_ID</th>\n",
       "      <th>Vendor_ID</th>\n",
       "      <th>Invoice_Date</th>\n",
       "      <th>Total_Amount</th>\n",
       "      <th>Currency</th>\n",
       "      <th>Status</th>\n",
       "    </tr>\n",
       "  </thead>\n",
       "  <tbody>\n",
       "    <tr>\n",
       "      <th>0</th>\n",
       "      <td>INV-00001</td>\n",
       "      <td>VEND-019</td>\n",
       "      <td>2023-01-01</td>\n",
       "      <td>929.46</td>\n",
       "      <td>USD</td>\n",
       "      <td>Paid</td>\n",
       "    </tr>\n",
       "    <tr>\n",
       "      <th>1</th>\n",
       "      <td>INV-00002</td>\n",
       "      <td>VEND-008</td>\n",
       "      <td>2023-01-02</td>\n",
       "      <td>621.19</td>\n",
       "      <td>USD</td>\n",
       "      <td>Paid</td>\n",
       "    </tr>\n",
       "    <tr>\n",
       "      <th>2</th>\n",
       "      <td>INV-00003</td>\n",
       "      <td>VEND-016</td>\n",
       "      <td>2023-01-03</td>\n",
       "      <td>3375.33</td>\n",
       "      <td>USD</td>\n",
       "      <td>Paid</td>\n",
       "    </tr>\n",
       "    <tr>\n",
       "      <th>3</th>\n",
       "      <td>INV-00004</td>\n",
       "      <td>VEND-002</td>\n",
       "      <td>2023-01-04</td>\n",
       "      <td>4188.03</td>\n",
       "      <td>GBP</td>\n",
       "      <td>Paid</td>\n",
       "    </tr>\n",
       "    <tr>\n",
       "      <th>4</th>\n",
       "      <td>INV-00005</td>\n",
       "      <td>VEND-004</td>\n",
       "      <td>2023-01-05</td>\n",
       "      <td>3504.20</td>\n",
       "      <td>GBP</td>\n",
       "      <td>Pending</td>\n",
       "    </tr>\n",
       "  </tbody>\n",
       "</table>\n",
       "</div>"
      ],
      "text/plain": [
       "  Invoice_ID Vendor_ID Invoice_Date  Total_Amount Currency   Status\n",
       "0  INV-00001  VEND-019   2023-01-01        929.46      USD     Paid\n",
       "1  INV-00002  VEND-008   2023-01-02        621.19      USD     Paid\n",
       "2  INV-00003  VEND-016   2023-01-03       3375.33      USD     Paid\n",
       "3  INV-00004  VEND-002   2023-01-04       4188.03      GBP     Paid\n",
       "4  INV-00005  VEND-004   2023-01-05       3504.20      GBP  Pending"
      ]
     },
     "execution_count": 17,
     "metadata": {},
     "output_type": "execute_result"
    }
   ],
   "source": [
    "#2) how does invoices data looks like\n",
    "invoiceDF.head(5)"
   ]
  },
  {
   "cell_type": "code",
   "execution_count": 19,
   "id": "a0271b20-6fb4-4887-8929-caf493941a2c",
   "metadata": {},
   "outputs": [
    {
     "data": {
      "text/html": [
       "<div>\n",
       "<style scoped>\n",
       "    .dataframe tbody tr th:only-of-type {\n",
       "        vertical-align: middle;\n",
       "    }\n",
       "\n",
       "    .dataframe tbody tr th {\n",
       "        vertical-align: top;\n",
       "    }\n",
       "\n",
       "    .dataframe thead th {\n",
       "        text-align: right;\n",
       "    }\n",
       "</style>\n",
       "<table border=\"1\" class=\"dataframe\">\n",
       "  <thead>\n",
       "    <tr style=\"text-align: right;\">\n",
       "      <th></th>\n",
       "      <th>Payment_ID</th>\n",
       "      <th>Invoice_ID</th>\n",
       "      <th>Payment_Date</th>\n",
       "      <th>Payment_Amount</th>\n",
       "      <th>Method</th>\n",
       "    </tr>\n",
       "  </thead>\n",
       "  <tbody>\n",
       "    <tr>\n",
       "      <th>0</th>\n",
       "      <td>PAY-00001</td>\n",
       "      <td>INV-00001</td>\n",
       "      <td>2023-01-02</td>\n",
       "      <td>929.46</td>\n",
       "      <td>PayPal</td>\n",
       "    </tr>\n",
       "    <tr>\n",
       "      <th>1</th>\n",
       "      <td>PAY-00002</td>\n",
       "      <td>INV-00002</td>\n",
       "      <td>2023-01-03</td>\n",
       "      <td>621.19</td>\n",
       "      <td>Credit Card</td>\n",
       "    </tr>\n",
       "    <tr>\n",
       "      <th>2</th>\n",
       "      <td>PAY-00003</td>\n",
       "      <td>INV-00003</td>\n",
       "      <td>2023-01-04</td>\n",
       "      <td>3375.33</td>\n",
       "      <td>PayPal</td>\n",
       "    </tr>\n",
       "    <tr>\n",
       "      <th>3</th>\n",
       "      <td>PAY-00004</td>\n",
       "      <td>INV-00004</td>\n",
       "      <td>2023-01-05</td>\n",
       "      <td>4188.03</td>\n",
       "      <td>Credit Card</td>\n",
       "    </tr>\n",
       "    <tr>\n",
       "      <th>4</th>\n",
       "      <td>PAY-00005</td>\n",
       "      <td>INV-00006</td>\n",
       "      <td>2023-01-06</td>\n",
       "      <td>3560.70</td>\n",
       "      <td>Credit Card</td>\n",
       "    </tr>\n",
       "  </tbody>\n",
       "</table>\n",
       "</div>"
      ],
      "text/plain": [
       "  Payment_ID Invoice_ID Payment_Date  Payment_Amount       Method\n",
       "0  PAY-00001  INV-00001   2023-01-02          929.46       PayPal\n",
       "1  PAY-00002  INV-00002   2023-01-03          621.19  Credit Card\n",
       "2  PAY-00003  INV-00003   2023-01-04         3375.33       PayPal\n",
       "3  PAY-00004  INV-00004   2023-01-05         4188.03  Credit Card\n",
       "4  PAY-00005  INV-00006   2023-01-06         3560.70  Credit Card"
      ]
     },
     "execution_count": 19,
     "metadata": {},
     "output_type": "execute_result"
    }
   ],
   "source": [
    "#3) how does Payments data looks like\n",
    "paymentsDF.head(5)"
   ]
  },
  {
   "cell_type": "code",
   "execution_count": 15,
   "id": "7d87668a-bfbd-4f18-87aa-a48919982eea",
   "metadata": {},
   "outputs": [
    {
     "data": {
      "text/html": [
       "<div>\n",
       "<style scoped>\n",
       "    .dataframe tbody tr th:only-of-type {\n",
       "        vertical-align: middle;\n",
       "    }\n",
       "\n",
       "    .dataframe tbody tr th {\n",
       "        vertical-align: top;\n",
       "    }\n",
       "\n",
       "    .dataframe thead th {\n",
       "        text-align: right;\n",
       "    }\n",
       "</style>\n",
       "<table border=\"1\" class=\"dataframe\">\n",
       "  <thead>\n",
       "    <tr style=\"text-align: right;\">\n",
       "      <th></th>\n",
       "      <th>Vendor_ID</th>\n",
       "      <th>Vendor_Name</th>\n",
       "      <th>Country</th>\n",
       "      <th>Category</th>\n",
       "    </tr>\n",
       "  </thead>\n",
       "  <tbody>\n",
       "    <tr>\n",
       "      <th>12</th>\n",
       "      <td>VEND-013</td>\n",
       "      <td>Vendor_13</td>\n",
       "      <td>Germany</td>\n",
       "      <td>Logistics</td>\n",
       "    </tr>\n",
       "    <tr>\n",
       "      <th>17</th>\n",
       "      <td>VEND-018</td>\n",
       "      <td>Vendor_18</td>\n",
       "      <td>UK</td>\n",
       "      <td>Consulting</td>\n",
       "    </tr>\n",
       "    <tr>\n",
       "      <th>14</th>\n",
       "      <td>VEND-015</td>\n",
       "      <td>Vendor_15</td>\n",
       "      <td>USA</td>\n",
       "      <td>Logistics</td>\n",
       "    </tr>\n",
       "    <tr>\n",
       "      <th>15</th>\n",
       "      <td>VEND-016</td>\n",
       "      <td>Vendor_16</td>\n",
       "      <td>UK</td>\n",
       "      <td>Consulting</td>\n",
       "    </tr>\n",
       "    <tr>\n",
       "      <th>13</th>\n",
       "      <td>VEND-014</td>\n",
       "      <td>Vendor_14</td>\n",
       "      <td>USA</td>\n",
       "      <td>Consulting</td>\n",
       "    </tr>\n",
       "  </tbody>\n",
       "</table>\n",
       "</div>"
      ],
      "text/plain": [
       "   Vendor_ID Vendor_Name  Country    Category\n",
       "12  VEND-013   Vendor_13  Germany   Logistics\n",
       "17  VEND-018   Vendor_18       UK  Consulting\n",
       "14  VEND-015   Vendor_15      USA   Logistics\n",
       "15  VEND-016   Vendor_16       UK  Consulting\n",
       "13  VEND-014   Vendor_14      USA  Consulting"
      ]
     },
     "execution_count": 15,
     "metadata": {},
     "output_type": "execute_result"
    }
   ],
   "source": [
    "#3) how does Payments data looks like\n",
    "vendorsDF.sample(5)"
   ]
  },
  {
   "cell_type": "code",
   "execution_count": 21,
   "id": "fcbbabfb-42af-40fe-ac8e-8e02a7cb9b3b",
   "metadata": {},
   "outputs": [
    {
     "name": "stdout",
     "output_type": "stream",
     "text": [
      "<class 'pandas.core.frame.DataFrame'>\n",
      "RangeIndex: 5000 entries, 0 to 4999\n",
      "Data columns (total 6 columns):\n",
      " #   Column        Non-Null Count  Dtype  \n",
      "---  ------        --------------  -----  \n",
      " 0   Invoice_ID    5000 non-null   object \n",
      " 1   Vendor_ID     5000 non-null   object \n",
      " 2   Invoice_Date  5000 non-null   object \n",
      " 3   Total_Amount  5000 non-null   float64\n",
      " 4   Currency      5000 non-null   object \n",
      " 5   Status        5000 non-null   object \n",
      "dtypes: float64(1), object(5)\n",
      "memory usage: 234.5+ KB\n"
     ]
    }
   ],
   "source": [
    "#4)data types of colums\n",
    "invoiceDF.info()"
   ]
  },
  {
   "cell_type": "code",
   "execution_count": 23,
   "id": "68bb8e66-12fd-4d92-914f-fefd8d4c0833",
   "metadata": {},
   "outputs": [
    {
     "name": "stdout",
     "output_type": "stream",
     "text": [
      "<class 'pandas.core.frame.DataFrame'>\n",
      "RangeIndex: 3059 entries, 0 to 3058\n",
      "Data columns (total 5 columns):\n",
      " #   Column          Non-Null Count  Dtype  \n",
      "---  ------          --------------  -----  \n",
      " 0   Payment_ID      3059 non-null   object \n",
      " 1   Invoice_ID      3059 non-null   object \n",
      " 2   Payment_Date    3059 non-null   object \n",
      " 3   Payment_Amount  3059 non-null   float64\n",
      " 4   Method          3059 non-null   object \n",
      "dtypes: float64(1), object(4)\n",
      "memory usage: 119.6+ KB\n"
     ]
    }
   ],
   "source": [
    "paymentsDF.info()"
   ]
  },
  {
   "cell_type": "code",
   "execution_count": 25,
   "id": "f05e57e6-44bd-4e1a-a514-b8971f7eb70b",
   "metadata": {},
   "outputs": [
    {
     "name": "stdout",
     "output_type": "stream",
     "text": [
      "<class 'pandas.core.frame.DataFrame'>\n",
      "RangeIndex: 20 entries, 0 to 19\n",
      "Data columns (total 4 columns):\n",
      " #   Column       Non-Null Count  Dtype \n",
      "---  ------       --------------  ----- \n",
      " 0   Vendor_ID    20 non-null     object\n",
      " 1   Vendor_Name  20 non-null     object\n",
      " 2   Country      20 non-null     object\n",
      " 3   Category     20 non-null     object\n",
      "dtypes: object(4)\n",
      "memory usage: 772.0+ bytes\n"
     ]
    }
   ],
   "source": [
    "vendorsDF.info()"
   ]
  },
  {
   "cell_type": "code",
   "execution_count": 33,
   "id": "4170e613-342b-4bdd-be43-b99c4d2c1951",
   "metadata": {},
   "outputs": [
    {
     "name": "stdout",
     "output_type": "stream",
     "text": [
      "Invoice_ID      0\n",
      "Vendor_ID       0\n",
      "Invoice_Date    0\n",
      "Total_Amount    0\n",
      "Currency        0\n",
      "Status          0\n",
      "dtype: int64\n",
      "Payment_ID        0\n",
      "Invoice_ID        0\n",
      "Payment_Date      0\n",
      "Payment_Amount    0\n",
      "Method            0\n",
      "dtype: int64\n",
      "Vendor_ID      0\n",
      "Vendor_Name    0\n",
      "Country        0\n",
      "Category       0\n",
      "dtype: int64\n"
     ]
    }
   ],
   "source": [
    "#5) Looking for missing values\n",
    "print(invoiceDF.isnull().sum())\n",
    "print(paymentsDF.isnull().sum())\n",
    "print(vendorsDF.isnull().sum())"
   ]
  },
  {
   "cell_type": "code",
   "execution_count": 35,
   "id": "f863b174-108a-48fc-bbbc-045cca996ab9",
   "metadata": {},
   "outputs": [
    {
     "data": {
      "text/html": [
       "<div>\n",
       "<style scoped>\n",
       "    .dataframe tbody tr th:only-of-type {\n",
       "        vertical-align: middle;\n",
       "    }\n",
       "\n",
       "    .dataframe tbody tr th {\n",
       "        vertical-align: top;\n",
       "    }\n",
       "\n",
       "    .dataframe thead th {\n",
       "        text-align: right;\n",
       "    }\n",
       "</style>\n",
       "<table border=\"1\" class=\"dataframe\">\n",
       "  <thead>\n",
       "    <tr style=\"text-align: right;\">\n",
       "      <th></th>\n",
       "      <th>Total_Amount</th>\n",
       "    </tr>\n",
       "  </thead>\n",
       "  <tbody>\n",
       "    <tr>\n",
       "      <th>count</th>\n",
       "      <td>5000.000000</td>\n",
       "    </tr>\n",
       "    <tr>\n",
       "      <th>mean</th>\n",
       "      <td>2767.295120</td>\n",
       "    </tr>\n",
       "    <tr>\n",
       "      <th>std</th>\n",
       "      <td>1313.244573</td>\n",
       "    </tr>\n",
       "    <tr>\n",
       "      <th>min</th>\n",
       "      <td>500.380000</td>\n",
       "    </tr>\n",
       "    <tr>\n",
       "      <th>25%</th>\n",
       "      <td>1636.087500</td>\n",
       "    </tr>\n",
       "    <tr>\n",
       "      <th>50%</th>\n",
       "      <td>2745.420000</td>\n",
       "    </tr>\n",
       "    <tr>\n",
       "      <th>75%</th>\n",
       "      <td>3943.752500</td>\n",
       "    </tr>\n",
       "    <tr>\n",
       "      <th>max</th>\n",
       "      <td>4999.580000</td>\n",
       "    </tr>\n",
       "  </tbody>\n",
       "</table>\n",
       "</div>"
      ],
      "text/plain": [
       "       Total_Amount\n",
       "count   5000.000000\n",
       "mean    2767.295120\n",
       "std     1313.244573\n",
       "min      500.380000\n",
       "25%     1636.087500\n",
       "50%     2745.420000\n",
       "75%     3943.752500\n",
       "max     4999.580000"
      ]
     },
     "execution_count": 35,
     "metadata": {},
     "output_type": "execute_result"
    }
   ],
   "source": [
    "#6)how does data looks mathamatically, this helps us in anamalies detection\n",
    "invoiceDF.describe()"
   ]
  },
  {
   "cell_type": "code",
   "execution_count": 37,
   "id": "3b66a79c-1300-4a38-b502-334d190a82a7",
   "metadata": {},
   "outputs": [
    {
     "data": {
      "text/html": [
       "<div>\n",
       "<style scoped>\n",
       "    .dataframe tbody tr th:only-of-type {\n",
       "        vertical-align: middle;\n",
       "    }\n",
       "\n",
       "    .dataframe tbody tr th {\n",
       "        vertical-align: top;\n",
       "    }\n",
       "\n",
       "    .dataframe thead th {\n",
       "        text-align: right;\n",
       "    }\n",
       "</style>\n",
       "<table border=\"1\" class=\"dataframe\">\n",
       "  <thead>\n",
       "    <tr style=\"text-align: right;\">\n",
       "      <th></th>\n",
       "      <th>Payment_Amount</th>\n",
       "    </tr>\n",
       "  </thead>\n",
       "  <tbody>\n",
       "    <tr>\n",
       "      <th>count</th>\n",
       "      <td>3059.000000</td>\n",
       "    </tr>\n",
       "    <tr>\n",
       "      <th>mean</th>\n",
       "      <td>2775.261497</td>\n",
       "    </tr>\n",
       "    <tr>\n",
       "      <th>std</th>\n",
       "      <td>1308.499322</td>\n",
       "    </tr>\n",
       "    <tr>\n",
       "      <th>min</th>\n",
       "      <td>502.210000</td>\n",
       "    </tr>\n",
       "    <tr>\n",
       "      <th>25%</th>\n",
       "      <td>1648.710000</td>\n",
       "    </tr>\n",
       "    <tr>\n",
       "      <th>50%</th>\n",
       "      <td>2759.600000</td>\n",
       "    </tr>\n",
       "    <tr>\n",
       "      <th>75%</th>\n",
       "      <td>3931.455000</td>\n",
       "    </tr>\n",
       "    <tr>\n",
       "      <th>max</th>\n",
       "      <td>4999.580000</td>\n",
       "    </tr>\n",
       "  </tbody>\n",
       "</table>\n",
       "</div>"
      ],
      "text/plain": [
       "       Payment_Amount\n",
       "count     3059.000000\n",
       "mean      2775.261497\n",
       "std       1308.499322\n",
       "min        502.210000\n",
       "25%       1648.710000\n",
       "50%       2759.600000\n",
       "75%       3931.455000\n",
       "max       4999.580000"
      ]
     },
     "execution_count": 37,
     "metadata": {},
     "output_type": "execute_result"
    }
   ],
   "source": [
    "paymentsDF.describe()"
   ]
  },
  {
   "cell_type": "code",
   "execution_count": 43,
   "id": "181ce5e5-77ce-45b8-aac3-a42828228620",
   "metadata": {},
   "outputs": [
    {
     "name": "stdout",
     "output_type": "stream",
     "text": [
      "0\n",
      "0\n",
      "0\n"
     ]
    }
   ],
   "source": [
    "#7) finding duplicates\n",
    "print(invoiceDF.duplicated().sum())\n",
    "print(paymentsDF.duplicated().sum())\n",
    "print(vendorsDF.duplicated().sum())\n"
   ]
  },
  {
   "cell_type": "code",
   "execution_count": 57,
   "id": "2f8ba4e1-96bb-4d74-bdbc-34fc7ac6a9fe",
   "metadata": {},
   "outputs": [
    {
     "name": "stdout",
     "output_type": "stream",
     "text": [
      "['USD' 'GBP' 'EUR']\n",
      "['Paid' 'Pending']\n",
      "['PayPal' 'Credit Card' 'Bank Transfer']\n",
      "['France' 'USA' 'UK' 'Germany' 'Canada']\n",
      "['Office Equipment' 'Consulting' 'Stationery' 'Logistics' 'IT Services']\n"
     ]
    }
   ],
   "source": [
    "#8) identify unique values in colums that are needed\n",
    "print(invoiceDF[\"Currency\"].unique())\n",
    "print(invoiceDF[\"Status\"].unique())\n",
    "print(paymentsDF[\"Method\"].unique())\n",
    "print(vendorsDF[\"Country\"].unique())\n",
    "print(vendorsDF[\"Category\"].unique())\n"
   ]
  },
  {
   "cell_type": "markdown",
   "id": "ba8783b5-a4e8-46a7-af8c-bb4be1b8aa48",
   "metadata": {},
   "source": [
    "After Understanding data, following are the insights :\n",
    "\n",
    "1)all payments curruncy are diffrent, for working with this data we will need to convert this data into common curruncy.\n",
    "2) no missing values are in dataset.\n",
    "3) In invoice,payments dataset date is object."
   ]
  },
  {
   "cell_type": "markdown",
   "id": "a60a32e4-db4e-460d-8a3a-1ca967515437",
   "metadata": {},
   "source": [
    "Univariate Analysis:\n",
    "\n"
   ]
  },
  {
   "cell_type": "code",
   "execution_count": 83,
   "id": "fde97093-2b03-414e-8bd8-b07f2b261fae",
   "metadata": {},
   "outputs": [],
   "source": [
    "import seaborn as sns\n",
    "import matplotlib as plt"
   ]
  },
  {
   "cell_type": "code",
   "execution_count": 61,
   "id": "b0da75b5-2c07-417b-b050-d75cffeaf99b",
   "metadata": {},
   "outputs": [
    {
     "data": {
      "text/plain": [
       "<Axes: xlabel='count', ylabel='Status'>"
      ]
     },
     "execution_count": 61,
     "metadata": {},
     "output_type": "execute_result"
    },
    {
     "data": {
      "image/png": "[encoded data removed]",
      "text/plain": [
       "<Figure size 640x480 with 1 Axes>"
      ]
     },
     "metadata": {},
     "output_type": "display_data"
    }
   ],
   "source": [
    "sns.countplot(invoiceDF['Status'])"
   ]
  },
  {
   "cell_type": "code",
   "execution_count": 63,
   "id": "dc5e4222-696a-4c17-b07b-aad4aff25f57",
   "metadata": {},
   "outputs": [
    {
     "data": {
      "text/plain": [
       "<Axes: xlabel='count', ylabel='Country'>"
      ]
     },
     "execution_count": 63,
     "metadata": {},
     "output_type": "execute_result"
    },
    {
     "data": {
      "image/png": "[encoded data removed]",
      "text/plain": [
       "<Figure size 640x480 with 1 Axes>"
      ]
     },
     "metadata": {},
     "output_type": "display_data"
    }
   ],
   "source": [
    "sns.countplot(vendorsDF['Country'])"
   ]
  },
  {
   "cell_type": "code",
   "execution_count": 65,
   "id": "551dd922-bd9d-4282-ae6e-af286289af23",
   "metadata": {},
   "outputs": [
    {
     "data": {
      "text/plain": [
       "<Axes: xlabel='count', ylabel='Method'>"
      ]
     },
     "execution_count": 65,
     "metadata": {},
     "output_type": "execute_result"
    },
    {
     "data": {
      "image/png": "[encoded data removed]",
      "text/plain": [
       "<Figure size 640x480 with 1 Axes>"
      ]
     },
     "metadata": {},
     "output_type": "display_data"
    }
   ],
   "source": [
    "sns.countplot(paymentsDF['Method'])"
   ]
  },
  {
   "cell_type": "code",
   "execution_count": 77,
   "id": "34cea471-6acc-4806-93bb-087bb0eec3eb",
   "metadata": {},
   "outputs": [
    {
     "data": {
      "text/plain": [
       "<Axes: ylabel='count'>"
      ]
     },
     "execution_count": 77,
     "metadata": {},
     "output_type": "execute_result"
    },
    {
     "data": {
      "image/png": "[encoded data removed]",
      "text/plain": [
       "<Figure size 640x480 with 1 Axes>"
      ]
     },
     "metadata": {},
     "output_type": "display_data"
    }
   ],
   "source": [
    "invoiceDF['Currency'].value_counts().plot(kind='pie',autopct='%.2f')"
   ]
  },
  {
   "cell_type": "code",
   "execution_count": 81,
   "id": "a1ab6527-ee24-4c06-a06d-bf9fda2f24be",
   "metadata": {},
   "outputs": [
    {
     "data": {
      "text/plain": [
       "<Axes: ylabel='count'>"
      ]
     },
     "execution_count": 81,
     "metadata": {},
     "output_type": "execute_result"
    },
    {
     "data": {
      "image/png": "[encoded data removed]",
      "text/plain": [
       "<Figure size 640x480 with 1 Axes>"
      ]
     },
     "metadata": {},
     "output_type": "display_data"
    }
   ],
   "source": [
    "vendorsDF['Category'].value_counts().plot(kind='pie',autopct='%.2f')"
   ]
  },
  {
   "cell_type": "code",
   "execution_count": 218,
   "id": "03108d4b-9a94-4f66-a311-276979d4ffec",
   "metadata": {},
   "outputs": [
    {
     "ename": "SyntaxError",
     "evalue": "invalid syntax (2277672696.py, line 1)",
     "output_type": "error",
     "traceback": [
      "\u001b[0;36m  Cell \u001b[0;32mIn[218], line 1\u001b[0;36m\u001b[0m\n\u001b[0;31m    From above analysis:\u001b[0m\n\u001b[0m         ^\u001b[0m\n\u001b[0;31mSyntaxError\u001b[0m\u001b[0;31m:\u001b[0m invalid syntax\n"
     ]
    }
   ],
   "source": [
    "From above analysis:\n",
    "\n",
    "the toatal amount are given in diffrent curruncy which is mentioned in column curruncy.\n",
    "\n",
    "To analyze the data we will convert all curruncy into INR"
   ]
  },
  {
   "cell_type": "code",
   "execution_count": 103,
   "id": "3aa34b56-560a-473f-9bcb-d5f8bc60b4b5",
   "metadata": {},
   "outputs": [],
   "source": [
    "exchange_rates = {\n",
    "    'USD': 82.5,  # 1 USD = 82.5 INR\n",
    "    'EUR': 89.0,  # 1 EUR = 89.0 INR\n",
    "    'GBP': 102.0, # 1 GBP = 102.0 INR\n",
    "}\n",
    "\n",
    "# Step 3: Add exchange rates to the DataFrame\n",
    "invoiceDF['Exchange_Rate'] = invoiceDF['Currency'].map(exchange_rates)\n",
    "\n",
    "# Step 4: Convert payments to INR\n",
    "invoiceDF['Total_Amount_INR'] = invoiceDF['Total_Amount'] * invoiceDF['Exchange_Rate']\n",
    "\n",
    "# Step 6: Save the updated DataFrame (optional)\n",
    "invoiceDF.to_csv('Invoices_Train.csv', index=False)\n"
   ]
  },
  {
   "cell_type": "code",
   "execution_count": 105,
   "id": "771e1cb5-2eba-4691-8fe4-bea62265a546",
   "metadata": {},
   "outputs": [
    {
     "data": {
      "text/html": [
       "<div>\n",
       "<style scoped>\n",
       "    .dataframe tbody tr th:only-of-type {\n",
       "        vertical-align: middle;\n",
       "    }\n",
       "\n",
       "    .dataframe tbody tr th {\n",
       "        vertical-align: top;\n",
       "    }\n",
       "\n",
       "    .dataframe thead th {\n",
       "        text-align: right;\n",
       "    }\n",
       "</style>\n",
       "<table border=\"1\" class=\"dataframe\">\n",
       "  <thead>\n",
       "    <tr style=\"text-align: right;\">\n",
       "      <th></th>\n",
       "      <th>Invoice_ID</th>\n",
       "      <th>Vendor_ID</th>\n",
       "      <th>Invoice_Date</th>\n",
       "      <th>Total_Amount</th>\n",
       "      <th>Currency</th>\n",
       "      <th>Status</th>\n",
       "      <th>Exchange_Rate</th>\n",
       "      <th>Total_Amount_INR</th>\n",
       "    </tr>\n",
       "  </thead>\n",
       "  <tbody>\n",
       "    <tr>\n",
       "      <th>0</th>\n",
       "      <td>INV-00001</td>\n",
       "      <td>VEND-019</td>\n",
       "      <td>2023-01-01</td>\n",
       "      <td>929.46</td>\n",
       "      <td>USD</td>\n",
       "      <td>Paid</td>\n",
       "      <td>82.5</td>\n",
       "      <td>76680.450</td>\n",
       "    </tr>\n",
       "    <tr>\n",
       "      <th>1</th>\n",
       "      <td>INV-00002</td>\n",
       "      <td>VEND-008</td>\n",
       "      <td>2023-01-02</td>\n",
       "      <td>621.19</td>\n",
       "      <td>USD</td>\n",
       "      <td>Paid</td>\n",
       "      <td>82.5</td>\n",
       "      <td>51248.175</td>\n",
       "    </tr>\n",
       "    <tr>\n",
       "      <th>2</th>\n",
       "      <td>INV-00003</td>\n",
       "      <td>VEND-016</td>\n",
       "      <td>2023-01-03</td>\n",
       "      <td>3375.33</td>\n",
       "      <td>USD</td>\n",
       "      <td>Paid</td>\n",
       "      <td>82.5</td>\n",
       "      <td>278464.725</td>\n",
       "    </tr>\n",
       "    <tr>\n",
       "      <th>3</th>\n",
       "      <td>INV-00004</td>\n",
       "      <td>VEND-002</td>\n",
       "      <td>2023-01-04</td>\n",
       "      <td>4188.03</td>\n",
       "      <td>GBP</td>\n",
       "      <td>Paid</td>\n",
       "      <td>102.0</td>\n",
       "      <td>427179.060</td>\n",
       "    </tr>\n",
       "    <tr>\n",
       "      <th>4</th>\n",
       "      <td>INV-00005</td>\n",
       "      <td>VEND-004</td>\n",
       "      <td>2023-01-05</td>\n",
       "      <td>3504.20</td>\n",
       "      <td>GBP</td>\n",
       "      <td>Pending</td>\n",
       "      <td>102.0</td>\n",
       "      <td>357428.400</td>\n",
       "    </tr>\n",
       "  </tbody>\n",
       "</table>\n",
       "</div>"
      ],
      "text/plain": [
       "  Invoice_ID Vendor_ID Invoice_Date  Total_Amount Currency   Status  \\\n",
       "0  INV-00001  VEND-019   2023-01-01        929.46      USD     Paid   \n",
       "1  INV-00002  VEND-008   2023-01-02        621.19      USD     Paid   \n",
       "2  INV-00003  VEND-016   2023-01-03       3375.33      USD     Paid   \n",
       "3  INV-00004  VEND-002   2023-01-04       4188.03      GBP     Paid   \n",
       "4  INV-00005  VEND-004   2023-01-05       3504.20      GBP  Pending   \n",
       "\n",
       "   Exchange_Rate  Total_Amount_INR  \n",
       "0           82.5         76680.450  \n",
       "1           82.5         51248.175  \n",
       "2           82.5        278464.725  \n",
       "3          102.0        427179.060  \n",
       "4          102.0        357428.400  "
      ]
     },
     "execution_count": 105,
     "metadata": {},
     "output_type": "execute_result"
    }
   ],
   "source": [
    "invoiceDF.head()"
   ]
  },
  {
   "cell_type": "code",
   "execution_count": 107,
   "id": "75b9b1a6-0ac2-4e91-9cb6-0c8ebe1bba53",
   "metadata": {},
   "outputs": [
    {
     "data": {
      "text/html": [
       "<div>\n",
       "<style scoped>\n",
       "    .dataframe tbody tr th:only-of-type {\n",
       "        vertical-align: middle;\n",
       "    }\n",
       "\n",
       "    .dataframe tbody tr th {\n",
       "        vertical-align: top;\n",
       "    }\n",
       "\n",
       "    .dataframe thead th {\n",
       "        text-align: right;\n",
       "    }\n",
       "</style>\n",
       "<table border=\"1\" class=\"dataframe\">\n",
       "  <thead>\n",
       "    <tr style=\"text-align: right;\">\n",
       "      <th></th>\n",
       "      <th>Payment_ID</th>\n",
       "      <th>Invoice_ID</th>\n",
       "      <th>Payment_Date</th>\n",
       "      <th>Payment_Amount</th>\n",
       "      <th>Method</th>\n",
       "      <th>Total_Amount_INR</th>\n",
       "    </tr>\n",
       "  </thead>\n",
       "  <tbody>\n",
       "    <tr>\n",
       "      <th>0</th>\n",
       "      <td>PAY-00001</td>\n",
       "      <td>INV-00001</td>\n",
       "      <td>2023-01-02</td>\n",
       "      <td>929.46</td>\n",
       "      <td>PayPal</td>\n",
       "      <td>76680.450</td>\n",
       "    </tr>\n",
       "    <tr>\n",
       "      <th>1</th>\n",
       "      <td>PAY-00002</td>\n",
       "      <td>INV-00002</td>\n",
       "      <td>2023-01-03</td>\n",
       "      <td>621.19</td>\n",
       "      <td>Credit Card</td>\n",
       "      <td>51248.175</td>\n",
       "    </tr>\n",
       "    <tr>\n",
       "      <th>2</th>\n",
       "      <td>PAY-00003</td>\n",
       "      <td>INV-00003</td>\n",
       "      <td>2023-01-04</td>\n",
       "      <td>3375.33</td>\n",
       "      <td>PayPal</td>\n",
       "      <td>278464.725</td>\n",
       "    </tr>\n",
       "    <tr>\n",
       "      <th>3</th>\n",
       "      <td>PAY-00004</td>\n",
       "      <td>INV-00004</td>\n",
       "      <td>2023-01-05</td>\n",
       "      <td>4188.03</td>\n",
       "      <td>Credit Card</td>\n",
       "      <td>427179.060</td>\n",
       "    </tr>\n",
       "    <tr>\n",
       "      <th>4</th>\n",
       "      <td>PAY-00005</td>\n",
       "      <td>INV-00006</td>\n",
       "      <td>2023-01-06</td>\n",
       "      <td>3560.70</td>\n",
       "      <td>Credit Card</td>\n",
       "      <td>293757.750</td>\n",
       "    </tr>\n",
       "  </tbody>\n",
       "</table>\n",
       "</div>"
      ],
      "text/plain": [
       "  Payment_ID Invoice_ID Payment_Date  Payment_Amount       Method  \\\n",
       "0  PAY-00001  INV-00001   2023-01-02          929.46       PayPal   \n",
       "1  PAY-00002  INV-00002   2023-01-03          621.19  Credit Card   \n",
       "2  PAY-00003  INV-00003   2023-01-04         3375.33       PayPal   \n",
       "3  PAY-00004  INV-00004   2023-01-05         4188.03  Credit Card   \n",
       "4  PAY-00005  INV-00006   2023-01-06         3560.70  Credit Card   \n",
       "\n",
       "   Total_Amount_INR  \n",
       "0         76680.450  \n",
       "1         51248.175  \n",
       "2        278464.725  \n",
       "3        427179.060  \n",
       "4        293757.750  "
      ]
     },
     "execution_count": 107,
     "metadata": {},
     "output_type": "execute_result"
    }
   ],
   "source": [
    "# Step 3: Merge invoce data into payment data\n",
    "paymentsDF = pd.merge(\n",
    "    paymentsDF,\n",
    "    invoiceDF[['Invoice_ID', 'Total_Amount_INR']],\n",
    "    on='Invoice_ID',\n",
    "    how='left'\n",
    ")\n",
    "\n",
    "# Step 4: Handle missing values\n",
    "# merged_df['Payment_Amount_INR'] = merged_df['Payment_Amount_INR'].fillna(0)\n",
    "paymentsDF.head()\n"
   ]
  },
  {
   "cell_type": "code",
   "execution_count": 109,
   "id": "6181252a-e453-4512-ab14-0ab2c22c2883",
   "metadata": {},
   "outputs": [
    {
     "data": {
      "text/html": [
       "<div>\n",
       "<style scoped>\n",
       "    .dataframe tbody tr th:only-of-type {\n",
       "        vertical-align: middle;\n",
       "    }\n",
       "\n",
       "    .dataframe tbody tr th {\n",
       "        vertical-align: top;\n",
       "    }\n",
       "\n",
       "    .dataframe thead th {\n",
       "        text-align: right;\n",
       "    }\n",
       "</style>\n",
       "<table border=\"1\" class=\"dataframe\">\n",
       "  <thead>\n",
       "    <tr style=\"text-align: right;\">\n",
       "      <th></th>\n",
       "      <th>Payment_ID</th>\n",
       "      <th>Invoice_ID</th>\n",
       "      <th>Payment_Date</th>\n",
       "      <th>Payment_Amount</th>\n",
       "      <th>Method</th>\n",
       "      <th>Payment_Amount_INR</th>\n",
       "    </tr>\n",
       "  </thead>\n",
       "  <tbody>\n",
       "    <tr>\n",
       "      <th>0</th>\n",
       "      <td>PAY-00001</td>\n",
       "      <td>INV-00001</td>\n",
       "      <td>2023-01-02</td>\n",
       "      <td>929.46</td>\n",
       "      <td>PayPal</td>\n",
       "      <td>76680.450</td>\n",
       "    </tr>\n",
       "    <tr>\n",
       "      <th>1</th>\n",
       "      <td>PAY-00002</td>\n",
       "      <td>INV-00002</td>\n",
       "      <td>2023-01-03</td>\n",
       "      <td>621.19</td>\n",
       "      <td>Credit Card</td>\n",
       "      <td>51248.175</td>\n",
       "    </tr>\n",
       "    <tr>\n",
       "      <th>2</th>\n",
       "      <td>PAY-00003</td>\n",
       "      <td>INV-00003</td>\n",
       "      <td>2023-01-04</td>\n",
       "      <td>3375.33</td>\n",
       "      <td>PayPal</td>\n",
       "      <td>278464.725</td>\n",
       "    </tr>\n",
       "    <tr>\n",
       "      <th>3</th>\n",
       "      <td>PAY-00004</td>\n",
       "      <td>INV-00004</td>\n",
       "      <td>2023-01-05</td>\n",
       "      <td>4188.03</td>\n",
       "      <td>Credit Card</td>\n",
       "      <td>427179.060</td>\n",
       "    </tr>\n",
       "    <tr>\n",
       "      <th>4</th>\n",
       "      <td>PAY-00005</td>\n",
       "      <td>INV-00006</td>\n",
       "      <td>2023-01-06</td>\n",
       "      <td>3560.70</td>\n",
       "      <td>Credit Card</td>\n",
       "      <td>293757.750</td>\n",
       "    </tr>\n",
       "  </tbody>\n",
       "</table>\n",
       "</div>"
      ],
      "text/plain": [
       "  Payment_ID Invoice_ID Payment_Date  Payment_Amount       Method  \\\n",
       "0  PAY-00001  INV-00001   2023-01-02          929.46       PayPal   \n",
       "1  PAY-00002  INV-00002   2023-01-03          621.19  Credit Card   \n",
       "2  PAY-00003  INV-00003   2023-01-04         3375.33       PayPal   \n",
       "3  PAY-00004  INV-00004   2023-01-05         4188.03  Credit Card   \n",
       "4  PAY-00005  INV-00006   2023-01-06         3560.70  Credit Card   \n",
       "\n",
       "   Payment_Amount_INR  \n",
       "0           76680.450  \n",
       "1           51248.175  \n",
       "2          278464.725  \n",
       "3          427179.060  \n",
       "4          293757.750  "
      ]
     },
     "execution_count": 109,
     "metadata": {},
     "output_type": "execute_result"
    }
   ],
   "source": [
    "paymentsDF = paymentsDF.rename(columns={\n",
    "    'Total_Amount_INR':'Payment_Amount_INR'\n",
    "})\n",
    "\n",
    "paymentsDF.head()"
   ]
  },
  {
   "cell_type": "markdown",
   "id": "064d64c4-e1ae-4a3c-86f8-bdfe88fd24f2",
   "metadata": {},
   "source": [
    "Bivariate And Multivariate analysis"
   ]
  },
  {
   "cell_type": "code",
   "execution_count": 117,
   "id": "e8e0c2d1-ea7f-4702-99fb-e0f0c6cbfa14",
   "metadata": {},
   "outputs": [
    {
     "data": {
      "text/plain": [
       "<Axes: ylabel='Total_Amount_INR'>"
      ]
     },
     "execution_count": 117,
     "metadata": {},
     "output_type": "execute_result"
    },
    {
     "data": {
      "image/png": "[encoded data removed]",
      "text/plain": [
       "<Figure size 640x480 with 1 Axes>"
      ]
     },
     "metadata": {},
     "output_type": "display_data"
    }
   ],
   "source": [
    "sns.boxplot(invoiceDF['Total_Amount_INR'])"
   ]
  },
  {
   "cell_type": "code",
   "execution_count": 146,
   "id": "13fe63aa-1a6a-4b72-887e-a611de95ac8d",
   "metadata": {},
   "outputs": [
    {
     "data": {
      "text/plain": [
       "<Axes: ylabel='Invoice_Date'>"
      ]
     },
     "execution_count": 146,
     "metadata": {},
     "output_type": "execute_result"
    },
    {
     "data": {
      "image/png": "[encoded data removed]",
      "text/plain": [
       "<Figure size 640x480 with 1 Axes>"
      ]
     },
     "metadata": {},
     "output_type": "display_data"
    }
   ],
   "source": [
    "sns.boxplot(invoiceDF['Invoice_Date'])"
   ]
  },
  {
   "cell_type": "markdown",
   "id": "18e01dd3-1540-4f81-a55a-ce686910e952",
   "metadata": {},
   "source": [
    "pandas profiling "
   ]
  },
  {
   "cell_type": "code",
   "execution_count": 139,
   "id": "4fb5c343-7258-4683-b69a-3e5884de13db",
   "metadata": {},
   "outputs": [
    {
     "name": "stdout",
     "output_type": "stream",
     "text": [
      "Requirement already satisfied: ydata-profiling in /opt/anaconda3/lib/python3.12/site-packages (4.12.2)\n",
      "Requirement already satisfied: scipy<1.16,>=1.4.1 in /opt/anaconda3/lib/python3.12/site-packages (from ydata-profiling) (1.13.1)\n",
      "Requirement already satisfied: pandas!=1.4.0,<3,>1.1 in /opt/anaconda3/lib/python3.12/site-packages (from ydata-profiling) (2.2.2)\n",
      "Requirement already satisfied: matplotlib>=3.5 in /opt/anaconda3/lib/python3.12/site-packages (from ydata-profiling) (3.8.4)\n",
      "Requirement already satisfied: pydantic>=2 in /opt/anaconda3/lib/python3.12/site-packages (from ydata-profiling) (2.5.3)\n",
      "Requirement already satisfied: PyYAML<6.1,>=5.0.0 in /opt/anaconda3/lib/python3.12/site-packages (from ydata-profiling) (6.0.1)\n",
      "Requirement already satisfied: jinja2<3.2,>=2.11.1 in /opt/anaconda3/lib/python3.12/site-packages (from ydata-profiling) (3.1.4)\n",
      "Requirement already satisfied: visions<0.8.0,>=0.7.5 in /opt/anaconda3/lib/python3.12/site-packages (from visions[type_image_path]<0.8.0,>=0.7.5->ydata-profiling) (0.7.6)\n",
      "Requirement already satisfied: numpy<2.2,>=1.16.0 in /opt/anaconda3/lib/python3.12/site-packages (from ydata-profiling) (1.26.4)\n",
      "Requirement already satisfied: htmlmin==0.1.12 in /opt/anaconda3/lib/python3.12/site-packages (from ydata-profiling) (0.1.12)\n",
      "Requirement already satisfied: phik<0.13,>=0.11.1 in /opt/anaconda3/lib/python3.12/site-packages (from ydata-profiling) (0.12.4)\n",
      "Requirement already satisfied: requests<3,>=2.24.0 in /opt/anaconda3/lib/python3.12/site-packages (from ydata-profiling) (2.32.2)\n",
      "Requirement already satisfied: tqdm<5,>=4.48.2 in /opt/anaconda3/lib/python3.12/site-packages (from ydata-profiling) (4.66.4)\n",
      "Requirement already satisfied: seaborn<0.14,>=0.10.1 in /opt/anaconda3/lib/python3.12/site-packages (from ydata-profiling) (0.13.2)\n",
      "Requirement already satisfied: multimethod<2,>=1.4 in /opt/anaconda3/lib/python3.12/site-packages (from ydata-profiling) (1.12)\n",
      "Requirement already satisfied: statsmodels<1,>=0.13.2 in /opt/anaconda3/lib/python3.12/site-packages (from ydata-profiling) (0.14.2)\n",
      "Requirement already satisfied: typeguard<5,>=3 in /opt/anaconda3/lib/python3.12/site-packages (from ydata-profiling) (4.4.2)\n",
      "Requirement already satisfied: imagehash==4.3.1 in /opt/anaconda3/lib/python3.12/site-packages (from ydata-profiling) (4.3.1)\n",
      "Requirement already satisfied: wordcloud>=1.9.3 in /opt/anaconda3/lib/python3.12/site-packages (from ydata-profiling) (1.9.4)\n",
      "Requirement already satisfied: dacite>=1.8 in /opt/anaconda3/lib/python3.12/site-packages (from ydata-profiling) (1.9.2)\n",
      "Requirement already satisfied: PyWavelets in /opt/anaconda3/lib/python3.12/site-packages (from imagehash==4.3.1->ydata-profiling) (1.5.0)\n",
      "Requirement already satisfied: pillow in /opt/anaconda3/lib/python3.12/site-packages (from imagehash==4.3.1->ydata-profiling) (10.3.0)\n",
      "Requirement already satisfied: MarkupSafe>=2.0 in /opt/anaconda3/lib/python3.12/site-packages (from jinja2<3.2,>=2.11.1->ydata-profiling) (2.1.3)\n",
      "Requirement already satisfied: contourpy>=1.0.1 in /opt/anaconda3/lib/python3.12/site-packages (from matplotlib>=3.5->ydata-profiling) (1.2.0)\n",
      "Requirement already satisfied: cycler>=0.10 in /opt/anaconda3/lib/python3.12/site-packages (from matplotlib>=3.5->ydata-profiling) (0.11.0)\n",
      "Requirement already satisfied: fonttools>=4.22.0 in /opt/anaconda3/lib/python3.12/site-packages (from matplotlib>=3.5->ydata-profiling) (4.51.0)\n",
      "Requirement already satisfied: kiwisolver>=1.3.1 in /opt/anaconda3/lib/python3.12/site-packages (from matplotlib>=3.5->ydata-profiling) (1.4.4)\n",
      "Requirement already satisfied: packaging>=20.0 in /opt/anaconda3/lib/python3.12/site-packages (from matplotlib>=3.5->ydata-profiling) (23.2)\n",
      "Requirement already satisfied: pyparsing>=2.3.1 in /opt/anaconda3/lib/python3.12/site-packages (from matplotlib>=3.5->ydata-profiling) (3.0.9)\n",
      "Requirement already satisfied: python-dateutil>=2.7 in /opt/anaconda3/lib/python3.12/site-packages (from matplotlib>=3.5->ydata-profiling) (2.9.0.post0)\n",
      "Requirement already satisfied: pytz>=2020.1 in /opt/anaconda3/lib/python3.12/site-packages (from pandas!=1.4.0,<3,>1.1->ydata-profiling) (2024.1)\n",
      "Requirement already satisfied: tzdata>=2022.7 in /opt/anaconda3/lib/python3.12/site-packages (from pandas!=1.4.0,<3,>1.1->ydata-profiling) (2023.3)\n",
      "Requirement already satisfied: joblib>=0.14.1 in /opt/anaconda3/lib/python3.12/site-packages (from phik<0.13,>=0.11.1->ydata-profiling) (1.1.1)\n",
      "Requirement already satisfied: annotated-types>=0.4.0 in /opt/anaconda3/lib/python3.12/site-packages (from pydantic>=2->ydata-profiling) (0.6.0)\n",
      "Requirement already satisfied: pydantic-core==2.14.6 in /opt/anaconda3/lib/python3.12/site-packages (from pydantic>=2->ydata-profiling) (2.14.6)\n",
      "Requirement already satisfied: typing-extensions>=4.6.1 in /opt/anaconda3/lib/python3.12/site-packages (from pydantic>=2->ydata-profiling) (4.11.0)\n",
      "Requirement already satisfied: charset-normalizer<4,>=2 in /opt/anaconda3/lib/python3.12/site-packages (from requests<3,>=2.24.0->ydata-profiling) (2.0.4)\n",
      "Requirement already satisfied: idna<4,>=2.5 in /opt/anaconda3/lib/python3.12/site-packages (from requests<3,>=2.24.0->ydata-profiling) (3.7)\n",
      "Requirement already satisfied: urllib3<3,>=1.21.1 in /opt/anaconda3/lib/python3.12/site-packages (from requests<3,>=2.24.0->ydata-profiling) (2.2.2)\n",
      "Requirement already satisfied: certifi>=2017.4.17 in /opt/anaconda3/lib/python3.12/site-packages (from requests<3,>=2.24.0->ydata-profiling) (2024.12.14)\n",
      "Requirement already satisfied: patsy>=0.5.6 in /opt/anaconda3/lib/python3.12/site-packages (from statsmodels<1,>=0.13.2->ydata-profiling) (0.5.6)\n",
      "Requirement already satisfied: attrs>=19.3.0 in /opt/anaconda3/lib/python3.12/site-packages (from visions<0.8.0,>=0.7.5->visions[type_image_path]<0.8.0,>=0.7.5->ydata-profiling) (23.1.0)\n",
      "Requirement already satisfied: networkx>=2.4 in /opt/anaconda3/lib/python3.12/site-packages (from visions<0.8.0,>=0.7.5->visions[type_image_path]<0.8.0,>=0.7.5->ydata-profiling) (3.2.1)\n",
      "Requirement already satisfied: six in /opt/anaconda3/lib/python3.12/site-packages (from patsy>=0.5.6->statsmodels<1,>=0.13.2->ydata-profiling) (1.16.0)\n"
     ]
    }
   ],
   "source": [
    "# !pip uninstall pandas-profiling\n",
    "!pip install ydata-profiling"
   ]
  },
  {
   "cell_type": "code",
   "execution_count": 222,
   "id": "3ad35efb-1760-492a-afce-a295e1ed275c",
   "metadata": {},
   "outputs": [
    {
     "data": {
      "application/vnd.jupyter.widget-view+json": {
       "model_id": "5190831513be44acaac6bb6973380343",
       "version_major": 2,
       "version_minor": 0
      },
      "text/plain": [
       "Summarize dataset:   0%|          | 0/5 [00:00<?, ?it/s]"
      ]
     },
     "metadata": {},
     "output_type": "display_data"
    },
    {
     "data": {
      "application/vnd.jupyter.widget-view+json": {
       "model_id": "f453713cf7d94708bb87f8b7f4e33a16",
       "version_major": 2,
       "version_minor": 0
      },
      "text/plain": [
       "Generate report structure:   0%|          | 0/1 [00:00<?, ?it/s]"
      ]
     },
     "metadata": {},
     "output_type": "display_data"
    },
    {
     "data": {
      "application/vnd.jupyter.widget-view+json": {
       "model_id": "ab2648d23ea64ded945f73a745bcedf3",
       "version_major": 2,
       "version_minor": 0
      },
      "text/plain": [
       "Render HTML:   0%|          | 0/1 [00:00<?, ?it/s]"
      ]
     },
     "metadata": {},
     "output_type": "display_data"
    },
    {
     "data": {
      "application/vnd.jupyter.widget-view+json": {
       "model_id": "ddbb0037cba4461993087d19839e4eaa",
       "version_major": 2,
       "version_minor": 0
      },
      "text/plain": [
       "Export report to file:   0%|          | 0/1 [00:00<?, ?it/s]"
      ]
     },
     "metadata": {},
     "output_type": "display_data"
    }
   ],
   "source": [
    "from ydata_profiling import ProfileReport\n",
    "\n",
    "# Generate the profile report\n",
    "prof = ProfileReport(invoiceDF)\n",
    "\n",
    "# Save the report to an HTML file (optional)\n",
    "prof.to_file(\"invoice_report.html\")"
   ]
  },
  {
   "cell_type": "code",
   "execution_count": null,
   "id": "22214fea-ab78-4bbf-960b-681221cd988d",
   "metadata": {},
   "outputs": [],
   "source": []
  }
 ],
 "metadata": {
  "kernelspec": {
   "display_name": "Python 3 (ipykernel)",
   "language": "python",
   "name": "python3"
  },
  "language_info": {
   "codemirror_mode": {
    "name": "ipython",
    "version": 3
   },
   "file_extension": ".py",
   "mimetype": "text/x-python",
   "name": "python",
   "nbconvert_exporter": "python",
   "pygments_lexer": "ipython3",
   "version": "3.12.4"
  }
 },
 "nbformat": 4,
 "nbformat_minor": 5
}
